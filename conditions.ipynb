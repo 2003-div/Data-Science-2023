{
 "cells": [
  {
   "cell_type": "code",
   "execution_count": 5,
   "metadata": {},
   "outputs": [],
   "source": [
    "x= input('enter name :')"
   ]
  },
  {
   "cell_type": "code",
   "execution_count": 3,
   "metadata": {},
   "outputs": [],
   "source": [
    "if len(x)== 4:\n",
    "    print(\"welcome mister 4 letters\")\n",
    "\n",
    "if len(x)== 0:\n",
    "    print(\"welcome me.Nobody\")"
   ]
  },
  {
   "cell_type": "code",
   "execution_count": 4,
   "metadata": {},
   "outputs": [
    {
     "name": "stdout",
     "output_type": "stream",
     "text": [
      "Even number\n"
     ]
    }
   ],
   "source": [
    "num= int(input('enter number :'))\n",
    "if num%2 == 0:\n",
    "    print(\"Even number\")\n",
    "else :\n",
    "    print(\"Odd number\")"
   ]
  },
  {
   "cell_type": "code",
   "execution_count": 6,
   "metadata": {},
   "outputs": [
    {
     "name": "stdout",
     "output_type": "stream",
     "text": [
      "c is greater\n"
     ]
    }
   ],
   "source": [
    "a,b,c = 10,20,30\n",
    "if a>b and a>c:\n",
    "    print(\"a is greater\")\n",
    "elif b>a and b>c:\n",
    "    print(\"b is greater\")\n",
    "else:\n",
    "    print(\"c is greater\")"
   ]
  },
  {
   "cell_type": "code",
   "execution_count": 9,
   "metadata": {},
   "outputs": [
    {
     "name": "stdout",
     "output_type": "stream",
     "text": [
      "you chose a wrong day\n"
     ]
    }
   ],
   "source": [
    "day = input('enter day :')\n",
    "match(day):\n",
    "    case 'monday' : print(\"It's monday today\")\n",
    "    case 'tuesday' : print(\"It's tuesday today\")\n",
    "    case 'wednesday' | 'thrusday' : print(\"you choose a day\")\n",
    "    case 'friday' : print('you chose friday')\n",
    "    case 'saturday' | 'sunday' : print('you chose weekend')\n",
    "    case _: print(\"you chose a wrong day\")\n",
    "    \n"
   ]
  },
  {
   "cell_type": "code",
   "execution_count": 10,
   "metadata": {},
   "outputs": [
    {
     "name": "stdout",
     "output_type": "stream",
     "text": [
      "1000 -> 1500.0\n"
     ]
    }
   ],
   "source": [
    "amount = int(input(\"enter your amount\"))\n",
    "if amount < 10000:\n",
    "    total = amount+ amount*0.5\n",
    "elif amount < 50000:\n",
    "    total = amount+amount*0.25\n",
    "elif amount < 100000:\n",
    "    total = amount+amount*0.1\n",
    "print(f'{amount} -> {total}')"
   ]
  },
  {
   "cell_type": "code",
   "execution_count": 11,
   "metadata": {},
   "outputs": [
    {
     "name": "stdout",
     "output_type": "stream",
     "text": [
      "simple interest is : 0.3\n"
     ]
    }
   ],
   "source": [
    "p=int(input(\"enter a number\"))\n",
    "r=int(input(\"enter a number\"))\n",
    "t=int(input(\"enter a number\"))\n",
    "si= p*r*t/100\n",
    "print(f\"simple interest is : {si}\")"
   ]
  },
  {
   "cell_type": "code",
   "execution_count": null,
   "metadata": {},
   "outputs": [],
   "source": []
  }
 ],
 "metadata": {
  "kernelspec": {
   "display_name": "base",
   "language": "python",
   "name": "python3"
  },
  "language_info": {
   "codemirror_mode": {
    "name": "ipython",
    "version": 3
   },
   "file_extension": ".py",
   "mimetype": "text/x-python",
   "name": "python",
   "nbconvert_exporter": "python",
   "pygments_lexer": "ipython3",
   "version": "3.10.10"
  },
  "orig_nbformat": 4
 },
 "nbformat": 4,
 "nbformat_minor": 2
}
