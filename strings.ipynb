{
 "cells": [
  {
   "cell_type": "markdown",
   "metadata": {},
   "source": [
    "# String \n",
    "immutable \n",
    "\n",
    "- create\n",
    "- index and slice \n",
    "- methods "
   ]
  },
  {
   "cell_type": "code",
   "execution_count": 1,
   "metadata": {},
   "outputs": [
    {
     "name": "stdout",
     "output_type": "stream",
     "text": [
      "<class 'str'> <class 'str'> <class 'str'>\n",
      "123\n",
      "<class 'str'>\n"
     ]
    }
   ],
   "source": [
    "a = 'Apple'\n",
    "b = \"Banana\"\n",
    "c = ''' This is\n",
    " a string of\n",
    " multiple lines '''\n",
    "\n",
    "print(type (a), type (b), type (c))\n",
    "\n",
    "d = str(123) # convert value to string\n",
    "\n",
    "print(d)\n",
    "print(type(d))"
   ]
  },
  {
   "cell_type": "code",
   "execution_count": 3,
   "metadata": {},
   "outputs": [
    {
     "data": {
      "text/plain": [
       "'AppleBanana'"
      ]
     },
     "execution_count": 3,
     "metadata": {},
     "output_type": "execute_result"
    }
   ],
   "source": [
    "a * 5 # string duplication\n",
    "a + b # string concatenation \n"
   ]
  },
  {
   "cell_type": "code",
   "execution_count": 4,
   "metadata": {},
   "outputs": [
    {
     "data": {
      "text/plain": [
       "'App'"
      ]
     },
     "execution_count": 4,
     "metadata": {},
     "output_type": "execute_result"
    }
   ],
   "source": [
    " a[0:3]"
   ]
  },
  {
   "cell_type": "code",
   "execution_count": 9,
   "metadata": {},
   "outputs": [
    {
     "name": "stdout",
     "output_type": "stream",
     "text": [
      "Vijay\n",
      " deenanath\n",
      " chauhan\n",
      "chauhan\n",
      "Vijay\n",
      "chauhan\n",
      "chauhan\n"
     ]
    }
   ],
   "source": [
    "name = \"Vijay deenanath chauhan\"\n",
    "print(name [0:5])\n",
    "print(name [5:15])\n",
    "print(name [15:230])\n",
    "print(name[16:len(name)])\n",
    "#when starting index is not given, it is assumed to be 0\n",
    "print(name[:5])\n",
    "#when ending index is not given , it is assumed to be len(name)\n",
    "print(name[16:])\n",
    "print(name[-7:])"
   ]
  },
  {
   "cell_type": "markdown",
   "metadata": {},
   "source": [
    "slicing syntax\n",
    "\n",
    "var[(start):(stop):(step)]"
   ]
  },
  {
   "cell_type": "code",
   "execution_count": 11,
   "metadata": {},
   "outputs": [
    {
     "name": "stdout",
     "output_type": "stream",
     "text": [
      "Vjydeaahcahn\n",
      "ia ennt hua\n",
      "nahuahc htananeed yajiV\n"
     ]
    }
   ],
   "source": [
    "print(name[::2])\n",
    "print(name[1::2])\n",
    "print(name[::-1]) # reverse string"
   ]
  },
  {
   "cell_type": "markdown",
   "metadata": {},
   "source": [
    "string method \n",
    "- formating methods \n",
    "     - upper(),lower(),capitalize(),title(),swapcase()\n",
    "- validation methods\n",
    "     - isupper(),islower(),istitle(),isalpha(),isnumeric()\n",
    "     - startswith(),endswith()\n",
    "- utility methods\n",
    "     - split(),join(),find(),replace(),strip()"
   ]
  },
  {
   "cell_type": "code",
   "execution_count": 15,
   "metadata": {},
   "outputs": [
    {
     "name": "stdout",
     "output_type": "stream",
     "text": [
      "THIS IS A PYTHON STRING\n",
      "this is a python string\n",
      "This is a python string\n",
      "tHIS IS A pYTHON sTRING\n",
      "this is a python string\n",
      "This Is A Python String\n",
      "This is a Python String\n"
     ]
    }
   ],
   "source": [
    "msg = 'This is a Python String'\n",
    "print(msg.upper())\n",
    "print(msg.lower())\n",
    "print(msg.capitalize())\n",
    "print(msg.swapcase())\n",
    "print(msg.casefold())\n",
    "print(msg.title())\n",
    "print(msg)"
   ]
  },
  {
   "cell_type": "code",
   "execution_count": 17,
   "metadata": {},
   "outputs": [
    {
     "data": {
      "text/plain": [
       "False"
      ]
     },
     "execution_count": 17,
     "metadata": {},
     "output_type": "execute_result"
    }
   ],
   "source": [
    "\"hello\".islower()\n",
    "\"csgha\".isupper()"
   ]
  },
  {
   "cell_type": "code",
   "execution_count": 18,
   "metadata": {},
   "outputs": [
    {
     "name": "stdout",
     "output_type": "stream",
     "text": [
      ">>> 123 <<<\n",
      "you entered a number\n",
      "you entered a alphanumeric\n"
     ]
    }
   ],
   "source": [
    "x = input('enter a number:')\n",
    "print('>>>',x,\"<<<\")\n",
    "if x.isnumeric():\n",
    "    print('you entered a number')\n",
    "if x.isalpha():\n",
    "    print(\"you entered a string\")\n",
    "if x.isalnum():\n",
    "    print(\"you entered a alphanumeric\")\n",
    "if x.islower():\n",
    "    print('you entered a lowercase string')"
   ]
  },
  {
   "cell_type": "code",
   "execution_count": 20,
   "metadata": {},
   "outputs": [
    {
     "name": "stdout",
     "output_type": "stream",
     "text": [
      "True\n",
      "False\n"
     ]
    }
   ],
   "source": [
    "person = 'Mr. Smith'\n",
    "print(person.startswith(\"Mr.\"))\n",
    "print(person.startswith(\"Ms.\"))\n"
   ]
  },
  {
   "cell_type": "code",
   "execution_count": 23,
   "metadata": {},
   "outputs": [
    {
     "name": "stdout",
     "output_type": "stream",
     "text": [
      "blue\n",
      "black\n",
      "brown\n"
     ]
    }
   ],
   "source": [
    "colors = ['red','green','blue','black','brown']\n",
    "for color in colors:\n",
    "    if color.startswith('b'):\n",
    "        print(color)"
   ]
  },
  {
   "cell_type": "code",
   "execution_count": 24,
   "metadata": {},
   "outputs": [
    {
     "name": "stdout",
     "output_type": "stream",
     "text": [
      "JPG Found 1.jpg\n",
      "PNG Found >> 2.png\n",
      "JPG Found 3.jpg\n",
      "JPG Found 4.jpg\n",
      "PNG Found >> 5.png\n"
     ]
    }
   ],
   "source": [
    "images = ['1.jpg','2.png','3.jpg','4.jpg','5.png']\n",
    "for img in images:\n",
    "    if img.endswith('.png'):\n",
    "        print(\"PNG Found >>\",img)\n",
    "    if img.endswith('.jpg'):\n",
    "        print(\"JPG Found\",img)"
   ]
  },
  {
   "cell_type": "code",
   "execution_count": 25,
   "metadata": {},
   "outputs": [
    {
     "name": "stdout",
     "output_type": "stream",
     "text": [
      "Life Before Death , Strength Before Weakness , Journey Befor Destination\n",
      "['Life', 'Before', 'Death', ',', 'Strength', 'Before', 'Weakness', ',', 'Journey', 'Befor', 'Destination']\n",
      "['Life Before Death ', ' Strength Before Weakness ', ' Journey Befor Destination']\n",
      "['Lif', ' B', 'for', ' D', 'ath , Str', 'ngth B', 'for', ' W', 'akn', 'ss , Journ', 'y B', 'for D', 'stination']\n"
     ]
    }
   ],
   "source": [
    "quote = \"Life Before Death , Strength Before Weakness , Journey Befor Destination\"\n",
    "print(quote)\n",
    "print(quote.split())\n",
    "print(quote.split(\",\"))\n",
    "print(quote.split(\"e\"))"
   ]
  },
  {
   "cell_type": "code",
   "execution_count": 26,
   "metadata": {},
   "outputs": [
    {
     "name": "stdout",
     "output_type": "stream",
     "text": [
      "['Life', 'Before', 'Death', ',', 'Strength', 'Before', 'Weakness', ',', 'Journey', 'Befor', 'Destination']\n",
      "11\n"
     ]
    }
   ],
   "source": [
    "words = quote.split()\n",
    "print(words)\n",
    "print(len(words))"
   ]
  },
  {
   "cell_type": "code",
   "execution_count": null,
   "metadata": {},
   "outputs": [],
   "source": []
  }
 ],
 "metadata": {
  "kernelspec": {
   "display_name": "base",
   "language": "python",
   "name": "python3"
  },
  "language_info": {
   "codemirror_mode": {
    "name": "ipython",
    "version": 3
   },
   "file_extension": ".py",
   "mimetype": "text/x-python",
   "name": "python",
   "nbconvert_exporter": "python",
   "pygments_lexer": "ipython3",
   "version": "3.10.10"
  },
  "orig_nbformat": 4
 },
 "nbformat": 4,
 "nbformat_minor": 2
}
