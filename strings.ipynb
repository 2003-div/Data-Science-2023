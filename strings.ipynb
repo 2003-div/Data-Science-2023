{
 "cells": [
  {
   "cell_type": "markdown",
   "metadata": {},
   "source": [
    "# String \n",
    "immutable \n",
    "\n",
    "- create\n",
    "- index and slice \n",
    "- methods "
   ]
  },
  {
   "cell_type": "code",
   "execution_count": 1,
   "metadata": {},
   "outputs": [
    {
     "name": "stdout",
     "output_type": "stream",
     "text": [
      "<class 'str'> <class 'str'> <class 'str'>\n",
      "123\n",
      "<class 'str'>\n"
     ]
    }
   ],
   "source": [
    "a = 'Apple'\n",
    "b = \"Banana\"\n",
    "c = ''' This is\n",
    " a string of\n",
    " multiple lines '''\n",
    "\n",
    "print(type (a), type (b), type (c))\n",
    "\n",
    "d = str(123) # convert value to string\n",
    "\n",
    "print(d)\n",
    "print(type(d))"
   ]
  },
  {
   "cell_type": "code",
   "execution_count": 3,
   "metadata": {},
   "outputs": [
    {
     "data": {
      "text/plain": [
       "'AppleBanana'"
      ]
     },
     "execution_count": 3,
     "metadata": {},
     "output_type": "execute_result"
    }
   ],
   "source": [
    "a * 5 # string duplication\n",
    "a + b # string concatenation \n"
   ]
  },
  {
   "cell_type": "code",
   "execution_count": 4,
   "metadata": {},
   "outputs": [
    {
     "data": {
      "text/plain": [
       "'App'"
      ]
     },
     "execution_count": 4,
     "metadata": {},
     "output_type": "execute_result"
    }
   ],
   "source": [
    " a[0:3]"
   ]
  },
  {
   "cell_type": "code",
   "execution_count": 1,
   "metadata": {},
   "outputs": [
    {
     "name": "stdout",
     "output_type": "stream",
     "text": [
      "Vijay\n",
      " deenanath\n",
      " chauhan\n",
      "chauhan\n",
      "Vijay\n",
      "chauhan\n",
      "chauhan\n"
     ]
    }
   ],
   "source": [
    "name = \"Vijay deenanath chauhan\"\n",
    "print(name [0:5])\n",
    "print(name [5:15])\n",
    "print(name [15:230])\n",
    "print(name[16:len(name)])\n",
    "#when starting index is not given, it is assumed to be 0\n",
    "print(name [:5])\n",
    "#when ending index is not given , it is assumed to be len(name)\n",
    "print(name [16:])\n",
    "print(name [-7:])"
   ]
  },
  {
   "cell_type": "markdown",
   "metadata": {},
   "source": [
    "slicing syntax\n",
    "\n",
    "var[(start):(stop):(step)]"
   ]
  },
  {
   "cell_type": "code",
   "execution_count": 11,
   "metadata": {},
   "outputs": [
    {
     "name": "stdout",
     "output_type": "stream",
     "text": [
      "Vjydeaahcahn\n",
      "ia ennt hua\n",
      "nahuahc htananeed yajiV\n"
     ]
    }
   ],
   "source": [
    "print(name[::2])\n",
    "print(name[1::2])\n",
    "print(name[::-1]) # reverse string"
   ]
  },
  {
   "cell_type": "markdown",
   "metadata": {},
   "source": [
    "string method \n",
    "- formating methods \n",
    "     - upper(),lower(),capitalize(),title(),swapcase()\n",
    "- validation methods\n",
    "     - isupper(),islower(),istitle(),isalpha(),isnumeric()\n",
    "     - startswith(),endswith()\n",
    "- utility methods\n",
    "     - split(),join(),find(),replace(),strip()"
   ]
  },
  {
   "cell_type": "code",
   "execution_count": 15,
   "metadata": {},
   "outputs": [
    {
     "name": "stdout",
     "output_type": "stream",
     "text": [
      "THIS IS A PYTHON STRING\n",
      "this is a python string\n",
      "This is a python string\n",
      "tHIS IS A pYTHON sTRING\n",
      "this is a python string\n",
      "This Is A Python String\n",
      "This is a Python String\n"
     ]
    }
   ],
   "source": [
    "msg = 'This is a Python String'\n",
    "print(msg.upper())\n",
    "print(msg.lower())\n",
    "print(msg.capitalize())\n",
    "print(msg.swapcase())\n",
    "print(msg.casefold())\n",
    "print(msg.title())\n",
    "print(msg)"
   ]
  },
  {
   "cell_type": "code",
   "execution_count": 17,
   "metadata": {},
   "outputs": [
    {
     "data": {
      "text/plain": [
       "False"
      ]
     },
     "execution_count": 17,
     "metadata": {},
     "output_type": "execute_result"
    }
   ],
   "source": [
    "\"hello\".islower()\n",
    "\"csgha\".isupper()"
   ]
  },
  {
   "cell_type": "code",
   "execution_count": 18,
   "metadata": {},
   "outputs": [
    {
     "name": "stdout",
     "output_type": "stream",
     "text": [
      ">>> 123 <<<\n",
      "you entered a number\n",
      "you entered a alphanumeric\n"
     ]
    }
   ],
   "source": [
    "x = input('enter a number:')\n",
    "print('>>>',x,\"<<<\")\n",
    "if x.isnumeric():\n",
    "    print('you entered a number')\n",
    "if x.isalpha():\n",
    "    print(\"you entered a string\")\n",
    "if x.isalnum():\n",
    "    print(\"you entered a alphanumeric\")\n",
    "if x.islower():\n",
    "    print('you entered a lowercase string')"
   ]
  },
  {
   "cell_type": "markdown",
   "metadata": {},
   "source": []
  },
  {
   "cell_type": "code",
   "execution_count": 20,
   "metadata": {},
   "outputs": [
    {
     "name": "stdout",
     "output_type": "stream",
     "text": [
      "True\n",
      "False\n"
     ]
    }
   ],
   "source": [
    "person = 'Mr. Smith'\n",
    "print(person.startswith(\"Mr.\"))\n",
    "print(person.startswith(\"Ms.\"))\n"
   ]
  },
  {
   "cell_type": "code",
   "execution_count": 23,
   "metadata": {},
   "outputs": [
    {
     "name": "stdout",
     "output_type": "stream",
     "text": [
      "blue\n",
      "black\n",
      "brown\n"
     ]
    }
   ],
   "source": [
    "colors = ['red','green','blue','black','brown']\n",
    "for color in colors:\n",
    "    if color.startswith('b'):\n",
    "        print(color)"
   ]
  },
  {
   "cell_type": "code",
   "execution_count": 24,
   "metadata": {},
   "outputs": [
    {
     "name": "stdout",
     "output_type": "stream",
     "text": [
      "JPG Found 1.jpg\n",
      "PNG Found >> 2.png\n",
      "JPG Found 3.jpg\n",
      "JPG Found 4.jpg\n",
      "PNG Found >> 5.png\n"
     ]
    }
   ],
   "source": [
    "images = ['1.jpg','2.png','3.jpg','4.jpg','5.png']\n",
    "for img in images:\n",
    "    if img.endswith('.png'):\n",
    "        print(\"PNG Found >>\",img)\n",
    "    if img.endswith('.jpg'):\n",
    "        print(\"JPG Found\",img)"
   ]
  },
  {
   "cell_type": "code",
   "execution_count": 25,
   "metadata": {},
   "outputs": [
    {
     "name": "stdout",
     "output_type": "stream",
     "text": [
      "Life Before Death , Strength Before Weakness , Journey Befor Destination\n",
      "['Life', 'Before', 'Death', ',', 'Strength', 'Before', 'Weakness', ',', 'Journey', 'Befor', 'Destination']\n",
      "['Life Before Death ', ' Strength Before Weakness ', ' Journey Befor Destination']\n",
      "['Lif', ' B', 'for', ' D', 'ath , Str', 'ngth B', 'for', ' W', 'akn', 'ss , Journ', 'y B', 'for D', 'stination']\n"
     ]
    }
   ],
   "source": [
    "quote = \"Life Before Death , Strength Before Weakness , Journey Befor Destination\"\n",
    "print(quote)\n",
    "print(quote.split())\n",
    "print(quote.split(\",\"))\n",
    "print(quote.split(\"e\"))"
   ]
  },
  {
   "cell_type": "code",
   "execution_count": 26,
   "metadata": {},
   "outputs": [
    {
     "name": "stdout",
     "output_type": "stream",
     "text": [
      "['Life', 'Before', 'Death', ',', 'Strength', 'Before', 'Weakness', ',', 'Journey', 'Befor', 'Destination']\n",
      "11\n"
     ]
    }
   ],
   "source": [
    "words = quote.split()\n",
    "print(words)\n",
    "print(len(words))"
   ]
  },
  {
   "cell_type": "code",
   "execution_count": 2,
   "metadata": {},
   "outputs": [
    {
     "name": "stdout",
     "output_type": "stream",
     "text": [
      "ABCDE\n",
      "A B C D E\n",
      "A,B,C,D,E\n",
      "A_B_C_D_E\n",
      "A--B--C--D--E\n"
     ]
    }
   ],
   "source": [
    "x = ['A','B','C','D','E']\n",
    "print(\"\".join(x))\n",
    "print(\" \".join(x))\n",
    "print(\",\".join(x))\n",
    "print(\"_\".join(x))\n",
    "print(\"--\".join(x))"
   ]
  },
  {
   "cell_type": "code",
   "execution_count": 3,
   "metadata": {},
   "outputs": [],
   "source": [
    "story = 'Once upon a time , there was a king , who left his kingdom to the queen , and she ruled over it'"
   ]
  },
  {
   "cell_type": "code",
   "execution_count": 6,
   "metadata": {},
   "outputs": [
    {
     "name": "stdout",
     "output_type": "stream",
     "text": [
      "7\n",
      "30\n",
      "65\n",
      "-1\n",
      "50\n",
      "61\n"
     ]
    }
   ],
   "source": [
    "print(story.find('on'))\n",
    "print(story.find('king'))\n",
    "print(story.find('queen'))\n",
    "print(story.find('prince'))\n",
    "print(story.find('king',31)) # 31 is the starting index\n",
    "print(story.rfind('the')) # rfind( ) searches from the right of the string "
   ]
  },
  {
   "cell_type": "code",
   "execution_count": 12,
   "metadata": {},
   "outputs": [
    {
     "name": "stdout",
     "output_type": "stream",
     "text": [
      "Once upon a tome, there was a pronce , who left hos proncedom to the queen, and she ruled over ot\n",
      "Once upon a time, thisre was a prince , who left his princedom to this queen, and she ruled over it\n",
      "Once upon a year, there is a prince , who right his princedom to the queen, and she ruled over it\n",
      "Once upon  time, there ws  prince , who left his princedom to the queen, nd she ruled over it\n",
      "Once upon a time, there was a prince , who left his princedom to the queen, and she ruled over it\n"
     ]
    }
   ],
   "source": [
    "print(story.replace('i','o'))\n",
    "print(story.replace('the','this'))\n",
    "print(story.replace('time','year').replace('was','is').replace('left','right'))\n",
    "print(story.replace('a',''))\n",
    "print(story.replace('king',''))"
   ]
  },
  {
   "cell_type": "code",
   "execution_count": 11,
   "metadata": {},
   "outputs": [
    {
     "name": "stdout",
     "output_type": "stream",
     "text": [
      "Once upon a time, there was a prince , who left his princedom to the queen, and she ruled over it\n"
     ]
    }
   ],
   "source": [
    "story = story.replace('king','prince')\n",
    "print(story)"
   ]
  },
  {
   "cell_type": "code",
   "execution_count": 19,
   "metadata": {},
   "outputs": [
    {
     "name": "stdout",
     "output_type": "stream",
     "text": [
      " upon a time , there was a king, who left his kingdom to the queen , and she ruled over it\n",
      "Once upon a time , there was a king, who left his kingdom to the queen , and she ruled over it\n"
     ]
    }
   ],
   "source": [
    "s = 'Once upon a time , there was a king, who left his kingdom to the queen , and she ruled over it'\n",
    "print(s.removeprefix('Once'))\n",
    "print(s.removesuffix('king'))"
   ]
  },
  {
   "cell_type": "code",
   "execution_count": 18,
   "metadata": {},
   "outputs": [
    {
     "name": "stdout",
     "output_type": "stream",
     "text": [
      "hello 7 5\n"
     ]
    }
   ],
   "source": [
    "data = ' hello '\n",
    "cdata = data.strip()\n",
    "print(cdata, len(data), len(cdata))"
   ]
  },
  {
   "cell_type": "code",
   "execution_count": 20,
   "metadata": {},
   "outputs": [
    {
     "name": "stdout",
     "output_type": "stream",
     "text": [
      "1000\n",
      "80000\n",
      "30000\n"
     ]
    }
   ],
   "source": [
    "prices = ['Rs.1000' , 'Rs.80000' , 'Rs.30000']\n",
    "for price in prices:\n",
    "    pr = price.removeprefix('Rs.')\n",
    "    print(int(pr))"
   ]
  },
  {
   "cell_type": "code",
   "execution_count": 21,
   "metadata": {},
   "outputs": [
    {
     "name": "stdout",
     "output_type": "stream",
     "text": [
      "1\n",
      "4\n",
      "0\n",
      "1\n"
     ]
    }
   ],
   "source": [
    "x = 'Once upon a time , there was a king , who left his kingdom to the queen , and she ruled over it'\n",
    "print(x.count(\"queen\"))\n",
    "print(x.count(\"a\"))\n",
    "print(x.count(\"this\"))\n",
    "print(x.count(\"is\"))"
   ]
  },
  {
   "cell_type": "code",
   "execution_count": 22,
   "metadata": {},
   "outputs": [
    {
     "data": {
      "text/plain": [
       "28"
      ]
     },
     "execution_count": 22,
     "metadata": {},
     "output_type": "execute_result"
    }
   ],
   "source": [
    "# total vowel in story\n",
    "x.count('a')+x.count('e')+x.count('i')+x.count('o')+x.count('u')"
   ]
  },
  {
   "cell_type": "code",
   "execution_count": 28,
   "metadata": {},
   "outputs": [
    {
     "name": "stdout",
     "output_type": "stream",
     "text": [
      "The                 3\n",
      "Zen                 3\n",
      "of                  2\n",
      "Python              6\n",
      ",                   1\n",
      "by                  2\n",
      "Tim                 3\n",
      "Peters              6\n",
      "Beautiful           9\n",
      "is                  2\n",
      "better              6\n",
      "than                4\n",
      "ugly.               5\n",
      "Explicit            8\n",
      "is                  2\n",
      "better              6\n",
      "than                4\n",
      "implicit.           9\n",
      "Simple              6\n",
      "is                  2\n",
      "better              6\n",
      "than                4\n",
      "complex.            8\n",
      "Complex             7\n",
      "is                  2\n",
      "better              6\n",
      "than                4\n",
      "complicated.        12\n",
      "Flat                4\n",
      "is                  2\n",
      "better              6\n",
      "than                4\n",
      "nested.             7\n",
      "Sparse              6\n",
      "is                  2\n",
      "better              6\n",
      "than                4\n",
      "dense.              6\n",
      "Readability         11\n",
      "counts.             7\n",
      "Special             7\n",
      "cases               5\n",
      "aren't              6\n",
      "special             7\n",
      "enough              6\n",
      "to                  2\n",
      "break               5\n",
      "the                 3\n",
      "rules.              6\n",
      "Although            8\n",
      "practicality        12\n",
      "beats               5\n",
      "purity.             7\n",
      "Errors              6\n",
      "should              6\n",
      "never               5\n",
      "pass                4\n",
      "silently.           9\n",
      "Unless              6\n",
      "explicitly          10\n",
      "silenced.           9\n",
      "In                  2\n",
      "the                 3\n",
      "face                4\n",
      "of                  2\n",
      "ambiguity,          10\n",
      "refuse              6\n",
      "the                 3\n",
      "temptation          10\n",
      "to                  2\n",
      "guess.              6\n",
      "There               5\n",
      "should              6\n",
      "be                  2\n",
      "one--               5\n",
      "and                 3\n",
      "preferably          10\n",
      "only                4\n",
      "one                 3\n",
      "--obvious           9\n",
      "way                 3\n",
      "to                  2\n",
      "do                  2\n",
      "it.                 3\n",
      "Although            8\n",
      "that                4\n",
      "way                 3\n",
      "may                 3\n",
      "not                 3\n",
      "be                  2\n",
      "obvious             7\n",
      "at                  2\n",
      "first               5\n",
      "unless              6\n",
      "you're              6\n",
      "Dutch.              6\n",
      "Now                 3\n",
      "is                  2\n",
      "better              6\n",
      "than                4\n",
      "never.              6\n",
      "Although            8\n",
      "never               5\n",
      "is                  2\n",
      "often               5\n",
      "better              6\n",
      "than                4\n",
      "*right*             7\n",
      "now.                4\n",
      "If                  2\n",
      "the                 3\n",
      "implementation      14\n",
      "is                  2\n",
      "hard                4\n",
      "to                  2\n",
      "explain,            8\n",
      "it's                4\n",
      "a                   1\n",
      "bad                 3\n",
      "idea.               5\n",
      "If                  2\n",
      "the                 3\n",
      "implementation      14\n",
      "is                  2\n",
      "easy                4\n",
      "to                  2\n",
      "explain,            8\n",
      "it                  2\n",
      "may                 3\n",
      "be                  2\n",
      "a                   1\n",
      "good                4\n",
      "idea.               5\n",
      "Namespaces          10\n",
      "are                 3\n",
      "one                 3\n",
      "honking             7\n",
      "great               5\n",
      "idea                4\n",
      "--                  2\n",
      "let's               5\n",
      "do                  2\n",
      "more                4\n",
      "of                  2\n",
      "those               5\n"
     ]
    }
   ],
   "source": [
    "content = '''The Zen of Python , by Tim Peters\n",
    "Beautiful is better than ugly.\n",
    "Explicit is better than implicit.\n",
    "Simple is better than complex.\n",
    "Complex is better than complicated.\n",
    "Flat is better than nested.\n",
    "Sparse is better than dense.\n",
    "Readability counts.\n",
    "Special cases aren't special enough to break the rules.\n",
    "Although practicality beats purity.\n",
    "Errors should never pass silently.\n",
    "Unless explicitly silenced.\n",
    "In the face of ambiguity, refuse the temptation to guess.\n",
    "There should be one-- and preferably only one --obvious way to do it.\n",
    "Although that way may not be obvious at first unless you're Dutch.\n",
    "Now is better than never.\n",
    "Although never is often better than *right* now.\n",
    "If the implementation is hard to explain, it's a bad idea.\n",
    "If the implementation is easy to explain, it may be a good idea.\n",
    "Namespaces are one honking great idea -- let's do more of those'''\n",
    "\n",
    "for word in content.split():\n",
    "    print(f'{word:20}{len(word)}')"
   ]
  },
  {
   "cell_type": "code",
   "execution_count": null,
   "metadata": {},
   "outputs": [],
   "source": []
  }
 ],
 "metadata": {
  "kernelspec": {
   "display_name": "base",
   "language": "python",
   "name": "python3"
  },
  "language_info": {
   "codemirror_mode": {
    "name": "ipython",
    "version": 3
   },
   "file_extension": ".py",
   "mimetype": "text/x-python",
   "name": "python",
   "nbconvert_exporter": "python",
   "pygments_lexer": "ipython3",
   "version": "3.10.10"
  },
  "orig_nbformat": 4
 },
 "nbformat": 4,
 "nbformat_minor": 2
}
