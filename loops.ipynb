{
 "cells": [
  {
   "cell_type": "markdown",
   "metadata": {},
   "source": [
    "syntax\n",
    "  \n",
    "for temp in iterable:\n",
    "    \n",
    "    statement 1 \n",
    "    ...\n",
    "    \n",
    "    statement n\n"
   ]
  },
  {
   "cell_type": "code",
   "execution_count": null,
   "metadata": {},
   "outputs": [],
   "source": [
    "range(10)"
   ]
  },
  {
   "cell_type": "code",
   "execution_count": 1,
   "metadata": {},
   "outputs": [
    {
     "name": "stdout",
     "output_type": "stream",
     "text": [
      "0\n",
      "1\n",
      "2\n",
      "3\n",
      "4\n",
      "5\n",
      "6\n",
      "7\n",
      "8\n",
      "9\n"
     ]
    }
   ],
   "source": [
    "for i in range (10):\n",
    "    print(i)"
   ]
  },
  {
   "cell_type": "code",
   "execution_count": 2,
   "metadata": {},
   "outputs": [
    {
     "name": "stdout",
     "output_type": "stream",
     "text": [
      "5\n",
      "6\n",
      "7\n",
      "8\n",
      "9\n",
      "10\n"
     ]
    }
   ],
   "source": [
    "for i in range (5,11):\n",
    "    print(i)"
   ]
  },
  {
   "cell_type": "code",
   "execution_count": 4,
   "metadata": {},
   "outputs": [
    {
     "name": "stdout",
     "output_type": "stream",
     "text": [
      "5 10 15 20 25 30 35 40 45 50 55 60 65 70 75 80 85 90 95 "
     ]
    }
   ],
   "source": [
    "for i in range (5,100,5):\n",
    "    print(i,end=' ')"
   ]
  },
  {
   "cell_type": "code",
   "execution_count": 6,
   "metadata": {},
   "outputs": [
    {
     "name": "stdout",
     "output_type": "stream",
     "text": [
      "10 9 8 7 6 5 4 3 2 1 "
     ]
    }
   ],
   "source": [
    "for i in range(10,0,-1):\n",
    "    print(i,end=' ')"
   ]
  },
  {
   "cell_type": "code",
   "execution_count": 7,
   "metadata": {},
   "outputs": [
    {
     "name": "stdout",
     "output_type": "stream",
     "text": [
      "12 45 56 53 24 20 "
     ]
    }
   ],
   "source": [
    "data = [12,45,56,53,24,20]\n",
    "# traversal of list\n",
    "for i in data:\n",
    "    print(i,end=' ')"
   ]
  },
  {
   "cell_type": "code",
   "execution_count": 9,
   "metadata": {},
   "outputs": [
    {
     "name": "stdout",
     "output_type": "stream",
     "text": [
      "12 52 45 23 78 56 "
     ]
    }
   ],
   "source": [
    "prices=[12,52,None,45,23,None,78,None,56]\n",
    "for pr in prices:\n",
    "    if pr is None:\n",
    "        continue\n",
    "    print(pr,end=' ')\n"
   ]
  },
  {
   "cell_type": "code",
   "execution_count": 10,
   "metadata": {},
   "outputs": [
    {
     "name": "stdout",
     "output_type": "stream",
     "text": [
      "12 52 45 23 78 56 "
     ]
    }
   ],
   "source": [
    "prices=[12,52,None,45,23,None,78,None,56]\n",
    "for pr in prices:\n",
    "    if pr is not None:\n",
    "        print(pr,end=' ')"
   ]
  },
  {
   "cell_type": "code",
   "execution_count": 15,
   "metadata": {},
   "outputs": [
    {
     "name": "stdout",
     "output_type": "stream",
     "text": [
      "12 52 the end\n"
     ]
    }
   ],
   "source": [
    "for iteam in prices :\n",
    "    if iteam is None:\n",
    "        break\n",
    "    print(iteam,end=' ')\n",
    "print('the end')"
   ]
  },
  {
   "cell_type": "code",
   "execution_count": 16,
   "metadata": {},
   "outputs": [
    {
     "name": "stdout",
     "output_type": "stream",
     "text": [
      "1\n",
      "1 2 3 \n",
      "2\n",
      "1 2 3 \n",
      "3\n",
      "1 2 3 \n",
      "4\n",
      "1 2 3 \n",
      "5\n",
      "1 2 3 \n"
     ]
    }
   ],
   "source": [
    "for i in range (1,6):\n",
    "    print(i)\n",
    "    for j in range(1,4):\n",
    "        print(j,end=' ')\n",
    "    print()"
   ]
  },
  {
   "cell_type": "markdown",
   "metadata": {},
   "source": [
    "- enuerate\n",
    "- zip\n",
    "- for-else"
   ]
  },
  {
   "cell_type": "code",
   "execution_count": 3,
   "metadata": {},
   "outputs": [
    {
     "name": "stdout",
     "output_type": "stream",
     "text": [
      "(0, 'Radha')\n",
      "(1, 'Madhu')\n",
      "(2, 'Rohan')\n",
      "(3, 'Rajesh')\n"
     ]
    }
   ],
   "source": [
    "names=['Radha','Madhu','Rohan','Rajesh']\n",
    "for name in enumerate(names):\n",
    "    print(name)\n"
   ]
  },
  {
   "cell_type": "code",
   "execution_count": 4,
   "metadata": {},
   "outputs": [
    {
     "name": "stdout",
     "output_type": "stream",
     "text": [
      "0 Radha\n",
      "1 Madhu\n",
      "2 Rohan\n",
      "3 Rajesh\n"
     ]
    }
   ],
   "source": [
    "for idx, name in enumerate(names):\n",
    "    print(idx, name)"
   ]
  },
  {
   "cell_type": "code",
   "execution_count": 5,
   "metadata": {},
   "outputs": [
    {
     "name": "stdout",
     "output_type": "stream",
     "text": [
      "1\n",
      "2\n",
      "3\n",
      "5\n",
      "7\n",
      "3\n",
      "3\n",
      "6\n",
      "7\n",
      "9\n"
     ]
    }
   ],
   "source": [
    "x = [1,2,3,5,7,3,3,6,7,9,8,0,2,1,1,5,6,7]\n",
    "for i, v in enumerate(x):\n",
    "    if i==10:\n",
    "        break\n",
    "    print(v) "
   ]
  },
  {
   "cell_type": "code",
   "execution_count": 7,
   "metadata": {},
   "outputs": [
    {
     "name": "stdout",
     "output_type": "stream",
     "text": [
      "(1, 7, 3)\n",
      "(3, 8, 4)\n",
      "(4, 9, 5)\n",
      "(5, 2, 6)\n",
      "(6, 5, 7)\n",
      "(2, 3, 2)\n"
     ]
    }
   ],
   "source": [
    "x=[1,3,4,5,6,2]\n",
    "y=[7,8,9,2,5,3]\n",
    "z=[3,4,5,6,7,2]\n",
    "for i in zip(x,y,z):\n",
    "    print(i)"
   ]
  },
  {
   "cell_type": "code",
   "execution_count": 8,
   "metadata": {},
   "outputs": [
    {
     "name": "stdout",
     "output_type": "stream",
     "text": [
      "1 7 3\n",
      "3 8 4\n",
      "4 9 5\n",
      "5 2 6\n",
      "6 5 7\n",
      "2 3 2\n"
     ]
    }
   ],
   "source": [
    "for i,j,k in zip(x,y,z):\n",
    "    print(i,j,k)"
   ]
  },
  {
   "cell_type": "code",
   "execution_count": 9,
   "metadata": {},
   "outputs": [
    {
     "name": "stdout",
     "output_type": "stream",
     "text": [
      "11\n",
      "15\n",
      "18\n",
      "13\n",
      "18\n",
      "7\n"
     ]
    }
   ],
   "source": [
    "for i,j,k in zip(x,y,z):\n",
    "    print(i+j+k)"
   ]
  },
  {
   "cell_type": "code",
   "execution_count": 11,
   "metadata": {},
   "outputs": [
    {
     "name": "stdout",
     "output_type": "stream",
     "text": [
      "(1, 7, 3)\n",
      "(3, 8, 4)\n",
      "(4, 9, 5)\n",
      "(5, 2, 6)\n",
      "(6, 5, 7)\n",
      "(2, 3, 2)\n",
      "(8, 6, 5)\n"
     ]
    }
   ],
   "source": [
    "x=[1,3,4,5,6,2,8,0,1]\n",
    "y=[7,8,9,2,5,3,6,7]\n",
    "z=[3,4,5,6,7,2,5]\n",
    "for i in zip(x,y,z):\n",
    "    print(i)"
   ]
  },
  {
   "cell_type": "code",
   "execution_count": 12,
   "metadata": {},
   "outputs": [
    {
     "name": "stdout",
     "output_type": "stream",
     "text": [
      "11\n",
      "15\n",
      "18\n",
      "13\n",
      "18\n",
      "7\n",
      "19\n"
     ]
    }
   ],
   "source": [
    "for i,j,k in zip(x,y,z):\n",
    "    print(i+j+k)"
   ]
  },
  {
   "cell_type": "markdown",
   "metadata": {},
   "source": [
    "for - else\n",
    "\n",
    "if all the iteration of the loop are completed without any break statement, then the else part is executed.\n",
    "else part is not executed if the loop is terminated by a break statement\n"
   ]
  },
  {
   "cell_type": "code",
   "execution_count": 13,
   "metadata": {},
   "outputs": [
    {
     "name": "stdout",
     "output_type": "stream",
     "text": [
      "1\n"
     ]
    }
   ],
   "source": [
    "for i in x:\n",
    "    if i==3:\n",
    "        break\n",
    "    print(i)\n",
    "else:\n",
    "    print(\"completed\")"
   ]
  },
  {
   "cell_type": "code",
   "execution_count": 14,
   "metadata": {},
   "outputs": [
    {
     "name": "stdout",
     "output_type": "stream",
     "text": [
      "1\n",
      "3\n",
      "4\n",
      "5\n",
      "6\n",
      "2\n",
      "8\n",
      "0\n",
      "1\n",
      "completed\n"
     ]
    }
   ],
   "source": [
    "for i in x:\n",
    "    if i==13:\n",
    "        break\n",
    "    print(i)\n",
    "else:\n",
    "    print(\"completed\")"
   ]
  },
  {
   "cell_type": "code",
   "execution_count": 19,
   "metadata": {},
   "outputs": [
    {
     "name": "stdout",
     "output_type": "stream",
     "text": [
      "23 % 2 = 1\n",
      "23 % 3 = 2\n",
      "23 % 4 = 3\n",
      "23 % 5 = 3\n",
      "23 % 6 = 5\n",
      "23 % 7 = 2\n",
      "23 % 8 = 7\n",
      "23 % 9 = 5\n",
      "23 % 10 = 3\n",
      "23 % 11 = 1\n",
      "23 % 12 = 11\n",
      "23 % 13 = 10\n",
      "23 % 14 = 9\n",
      "23 % 15 = 8\n",
      "23 % 16 = 7\n",
      "23 % 17 = 6\n",
      "23 % 18 = 5\n",
      "23 % 19 = 4\n",
      "23 % 20 = 3\n",
      "23 % 21 = 2\n",
      "23 % 22 = 1\n",
      "prime\n"
     ]
    }
   ],
   "source": [
    "num = int(input(\"enter a number\"))\n",
    "for i in range (2,num):\n",
    "    print(f'{num} % {i} = {num%i}')\n",
    "    if num % i == 0:\n",
    "        print(\"not prime\")\n",
    "        break\n",
    "else:\n",
    "    print(\"prime\")"
   ]
  },
  {
   "cell_type": "code",
   "execution_count": null,
   "metadata": {},
   "outputs": [],
   "source": []
  }
 ],
 "metadata": {
  "kernelspec": {
   "display_name": "base",
   "language": "python",
   "name": "python3"
  },
  "language_info": {
   "codemirror_mode": {
    "name": "ipython",
    "version": 3
   },
   "file_extension": ".py",
   "mimetype": "text/x-python",
   "name": "python",
   "nbconvert_exporter": "python",
   "pygments_lexer": "ipython3",
   "version": "3.10.10"
  },
  "orig_nbformat": 4
 },
 "nbformat": 4,
 "nbformat_minor": 2
}
