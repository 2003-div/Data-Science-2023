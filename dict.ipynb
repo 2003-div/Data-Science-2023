{
 "cells": [
  {
   "cell_type": "markdown",
   "metadata": {},
   "source": [
    "Dictonary \n",
    "\n",
    "- key and value pair\n",
    "- nested data\n",
    "- immutable\n",
    "- ordered\n",
    "- indexing not allowed"
   ]
  },
  {
   "cell_type": "code",
   "execution_count": 1,
   "metadata": {},
   "outputs": [],
   "source": [
    "book = {\n",
    "    'title' : 'the final empire',\n",
    "    'author' : 'Brandon Sanderson',\n",
    "    'price' : 1499,\n",
    "    'publiser' : 'Tor Books',\n",
    "    'year' : 2006,\n",
    "    'pages' : 541,\n",
    "    'languages' : ['english','french','spanish']\n",
    "}"
   ]
  },
  {
   "cell_type": "code",
   "execution_count": 3,
   "metadata": {},
   "outputs": [
    {
     "name": "stdout",
     "output_type": "stream",
     "text": [
      "{'title': 'the final empire', 'author': 'Brandon Sanderson', 'price': 1499, 'publiser': 'Tor Books', 'year': 2006, 'pages': 541, 'languages': ['english', 'french', 'spanish'], 'rating': 4.9, 'type': 'paperback'}\n"
     ]
    }
   ],
   "source": [
    "book['rating'] = 4.9\n",
    "book['type'] = 'paperback'\n",
    "print(book)"
   ]
  },
  {
   "cell_type": "code",
   "execution_count": 4,
   "metadata": {},
   "outputs": [
    {
     "data": {
      "text/plain": [
       "541"
      ]
     },
     "execution_count": 4,
     "metadata": {},
     "output_type": "execute_result"
    }
   ],
   "source": [
    "book['pages']"
   ]
  },
  {
   "cell_type": "code",
   "execution_count": 5,
   "metadata": {},
   "outputs": [
    {
     "data": {
      "text/plain": [
       "541"
      ]
     },
     "execution_count": 5,
     "metadata": {},
     "output_type": "execute_result"
    }
   ],
   "source": [
    "book.pop('pages')"
   ]
  },
  {
   "cell_type": "code",
   "execution_count": 6,
   "metadata": {},
   "outputs": [
    {
     "data": {
      "text/plain": [
       "{'title': 'the final empire',\n",
       " 'author': 'Brandon Sanderson',\n",
       " 'price': 1499,\n",
       " 'publiser': 'Tor Books',\n",
       " 'year': 2006,\n",
       " 'languages': ['english', 'french', 'spanish'],\n",
       " 'rating': 4.9,\n",
       " 'type': 'paperback'}"
      ]
     },
     "execution_count": 6,
     "metadata": {},
     "output_type": "execute_result"
    }
   ],
   "source": [
    "book"
   ]
  },
  {
   "cell_type": "code",
   "execution_count": 8,
   "metadata": {},
   "outputs": [
    {
     "data": {
      "text/plain": [
       "['title', 'author', 'price', 'publiser', 'year', 'languages', 'rating', 'type']"
      ]
     },
     "execution_count": 8,
     "metadata": {},
     "output_type": "execute_result"
    }
   ],
   "source": [
    "list(book.keys())"
   ]
  },
  {
   "cell_type": "code",
   "execution_count": 9,
   "metadata": {},
   "outputs": [
    {
     "data": {
      "text/plain": [
       "['the final empire',\n",
       " 'Brandon Sanderson',\n",
       " 1499,\n",
       " 'Tor Books',\n",
       " 2006,\n",
       " ['english', 'french', 'spanish'],\n",
       " 4.9,\n",
       " 'paperback']"
      ]
     },
     "execution_count": 9,
     "metadata": {},
     "output_type": "execute_result"
    }
   ],
   "source": [
    "list(book.values())"
   ]
  },
  {
   "cell_type": "code",
   "execution_count": 11,
   "metadata": {},
   "outputs": [
    {
     "data": {
      "text/plain": [
       "[('title', 'the final empire'),\n",
       " ('author', 'Brandon Sanderson'),\n",
       " ('price', 1499),\n",
       " ('publiser', 'Tor Books'),\n",
       " ('year', 2006),\n",
       " ('languages', ['english', 'french', 'spanish']),\n",
       " ('rating', 4.9),\n",
       " ('type', 'paperback')]"
      ]
     },
     "execution_count": 11,
     "metadata": {},
     "output_type": "execute_result"
    }
   ],
   "source": [
    "list(book.items())  # key value pair"
   ]
  },
  {
   "cell_type": "code",
   "execution_count": 13,
   "metadata": {},
   "outputs": [
    {
     "data": {
      "text/plain": [
       "'Tor Books'"
      ]
     },
     "execution_count": 13,
     "metadata": {},
     "output_type": "execute_result"
    }
   ],
   "source": [
    "book.get('publiser')"
   ]
  },
  {
   "cell_type": "code",
   "execution_count": 14,
   "metadata": {},
   "outputs": [
    {
     "data": {
      "text/plain": [
       "'Tor Books'"
      ]
     },
     "execution_count": 14,
     "metadata": {},
     "output_type": "execute_result"
    }
   ],
   "source": [
    "book.get('publiser','not found')"
   ]
  },
  {
   "cell_type": "code",
   "execution_count": 15,
   "metadata": {},
   "outputs": [
    {
     "data": {
      "text/plain": [
       "'not found'"
      ]
     },
     "execution_count": 15,
     "metadata": {},
     "output_type": "execute_result"
    }
   ],
   "source": [
    "book.get('Publiser','not found')"
   ]
  },
  {
   "cell_type": "code",
   "execution_count": 16,
   "metadata": {},
   "outputs": [
    {
     "name": "stdout",
     "output_type": "stream",
     "text": [
      "{'kjakda': 5.0, 'kala': 7.0, 'iaowsa': 8.7}\n"
     ]
    }
   ],
   "source": [
    "my_dict = {}\n",
    "for i in range (1,4):\n",
    "    name = input(f'enter the name of movie {i}')\n",
    "    rate = float(input(f'enter the rating of the movie {i}'))\n",
    "    my_dict [name] = rate\n",
    "\n",
    "print(my_dict)"
   ]
  },
  {
   "cell_type": "code",
   "execution_count": 17,
   "metadata": {},
   "outputs": [
    {
     "name": "stdout",
     "output_type": "stream",
     "text": [
      "kjakda\n",
      "kala\n",
      "iaowsa\n",
      "--------------------\n",
      "kjakda 5.0\n",
      "kala 7.0\n",
      "iaowsa 8.7\n",
      "--------------------\n",
      "kjakda 5.0\n",
      "kala 7.0\n",
      "iaowsa 8.7\n"
     ]
    }
   ],
   "source": [
    "for i in my_dict:\n",
    "    print(i)  # only keys\n",
    "\n",
    "print('--' * 10)\n",
    "for i in my_dict:\n",
    "    print(i,my_dict[i])    # only values\n",
    "\n",
    "print('--' * 10)\n",
    "for k,v in my_dict.items():\n",
    "    print(k,v)  # both keys and value"
   ]
  },
  {
   "cell_type": "code",
   "execution_count": 21,
   "metadata": {},
   "outputs": [],
   "source": [
    "books = {\n",
    "    'book1' : {\n",
    "        'title' : 'the final empire',\n",
    "        'author' : 'Brandon Sanderson',\n",
    "        'price' : 1499,\n",
    "    },\n",
    "    'book2' : {\n",
    "        'title' : 'the well of ascension',\n",
    "        'author' : 'Brandon Sanderson',\n",
    "        'price'  : 1699,\n",
    "        'publisher' : 'Tor Books'\n",
    "    },\n",
    "    'book3' :{\n",
    "        'title' : 'the hero of ages',\n",
    "        'author' : 'Brandon Sanderson',\n",
    "        'price' : 1799,\n",
    "    }\n",
    "}"
   ]
  },
  {
   "cell_type": "code",
   "execution_count": 23,
   "metadata": {},
   "outputs": [
    {
     "name": "stdout",
     "output_type": "stream",
     "text": [
      "book1\n",
      "\ttitle = the final empire\n",
      "\tauthor = Brandon Sanderson\n",
      "\tprice = 1499\n",
      "book2\n",
      "\ttitle = the well of ascension\n",
      "\tauthor = Brandon Sanderson\n",
      "\tprice = 1699\n",
      "\tpublisher = Tor Books\n",
      "book3\n",
      "\ttitle = the hero of ages\n",
      "\tauthor = Brandon Sanderson\n",
      "\tprice = 1799\n"
     ]
    }
   ],
   "source": [
    "for name , detail in books.items():\n",
    "    print(name)   # for printing only book keys present\n",
    "    for k,v in detail.items():\n",
    "        print(f\"\\t{k} = {v}\")"
   ]
  },
  {
   "cell_type": "code",
   "execution_count": 27,
   "metadata": {},
   "outputs": [
    {
     "name": "stdout",
     "output_type": "stream",
     "text": [
      "book2 {'title': 'the well of ascension', 'author': 'Brandon Sanderson', 'price': 1699, 'publisher': 'Tor Books'}\n"
     ]
    }
   ],
   "source": [
    "query = 'the well'\n",
    "for name ,detail in books.items():\n",
    "    if query in detail['title']:\n",
    "        print(name,detail)"
   ]
  },
  {
   "cell_type": "code",
   "execution_count": 30,
   "metadata": {},
   "outputs": [
    {
     "name": "stdout",
     "output_type": "stream",
     "text": [
      "{1: 1, 2: 4, 3: 9, 4: 16, 5: 25, 6: 36, 7: 49, 8: 64, 9: 81, 10: 100}\n"
     ]
    }
   ],
   "source": [
    "# wap to create a dictionary that store numbers and their squares\n",
    "n = 10\n",
    "my_square = {}\n",
    "for i in range(1,11):\n",
    "    my_square[i] = i * i\n",
    "print (my_square)\n",
    "    "
   ]
  },
  {
   "cell_type": "code",
   "execution_count": 33,
   "metadata": {},
   "outputs": [
    {
     "name": "stdout",
     "output_type": "stream",
     "text": [
      "{'shoes': 500, 'clothes': 800, 'bag': 1000}\n"
     ]
    }
   ],
   "source": [
    "# wap to ask user to enter item and its price and then store it in dictionary, the prog should stop when the user wants hint - while loop\n",
    "\n",
    "items = {}\n",
    "while True:\n",
    "    item = input('enter your item :')\n",
    "    if not item : break\n",
    "    price = int(input('enter your price :'))\n",
    "    items[item] = price\n",
    "print(items)\n"
   ]
  },
  {
   "cell_type": "code",
   "execution_count": null,
   "metadata": {},
   "outputs": [],
   "source": []
  }
 ],
 "metadata": {
  "kernelspec": {
   "display_name": "base",
   "language": "python",
   "name": "python3"
  },
  "language_info": {
   "codemirror_mode": {
    "name": "ipython",
    "version": 3
   },
   "file_extension": ".py",
   "mimetype": "text/x-python",
   "name": "python",
   "nbconvert_exporter": "python",
   "pygments_lexer": "ipython3",
   "version": "3.10.10"
  },
  "orig_nbformat": 4
 },
 "nbformat": 4,
 "nbformat_minor": 2
}
