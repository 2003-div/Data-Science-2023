{
 "cells": [
  {
   "cell_type": "markdown",
   "metadata": {},
   "source": [
    "List \n",
    "\n",
    "- indexed data structure (every item has 0,1,2,3....)\n",
    "- ordered (a,b,c,d will remain same)\n",
    "- mutable(can store,edit,replace)\n",
    "- can have duplicates\n",
    "- ' [] '\n",
    "- 'list()'\n"
   ]
  },
  {
   "cell_type": "markdown",
   "metadata": {},
   "source": [
    "Tuple\n",
    "\n",
    "- indexed\n",
    "- ordered\n",
    "- immutable\n",
    "- can have duplicates\n",
    "- '()'\n",
    "- 'tuple ()'"
   ]
  },
  {
   "cell_type": "markdown",
   "metadata": {},
   "source": [
    "Set\n",
    "\n",
    "- unindexed\n",
    "- unordered\n",
    "- mutable\n",
    "- cant have duplicates\n",
    "- '{}'\n",
    "- 'set()'"
   ]
  },
  {
   "cell_type": "markdown",
   "metadata": {},
   "source": [
    "Dictionary\n",
    "\n",
    "- unindexed\n",
    "- ordered\n",
    "- mutable\n",
    "- key:value pairs\n",
    "- immutable keys\n",
    "- {'key':'value'}\n",
    "- 'dict()'"
   ]
  },
  {
   "cell_type": "code",
   "execution_count": 3,
   "metadata": {},
   "outputs": [],
   "source": [
    "# creating list\n",
    "x = [] #empty list\n",
    "a = [1,2,3,4,5] #numeric list\n",
    "colors = ['red','green','blue'] #string list\n",
    "mixed = [1,2,'red','green',False,True,None,[1,2,3]] #mixed list\n",
    "nested_list =[[1,2,3],[4,5,6]] # nested list"
   ]
  },
  {
   "cell_type": "code",
   "execution_count": 1,
   "metadata": {},
   "outputs": [
    {
     "name": "stdout",
     "output_type": "stream",
     "text": [
      "['A', 'l', 'e', 'x', 'a', 'n', 'd', 'e', 'r']\n"
     ]
    }
   ],
   "source": [
    "name = 'Alexander'\n",
    "charlist = list(name)\n",
    "print(charlist)"
   ]
  },
  {
   "cell_type": "code",
   "execution_count": 4,
   "metadata": {},
   "outputs": [
    {
     "name": "stdout",
     "output_type": "stream",
     "text": [
      "['red', 'green', 'blue', 'red', 'green', 'blue', 'red', 'green', 'blue']\n"
     ]
    }
   ],
   "source": [
    "# List duplication\n",
    "new = colors * 3\n",
    "print(new)\n"
   ]
  },
  {
   "cell_type": "code",
   "execution_count": 5,
   "metadata": {},
   "outputs": [
    {
     "name": "stdout",
     "output_type": "stream",
     "text": [
      "[1, 2, 3, 4, 5, 'red', 'green', 'blue']\n"
     ]
    }
   ],
   "source": [
    "# list concatenation\n",
    "\n",
    "con = a + colors\n",
    "print(con)"
   ]
  },
  {
   "cell_type": "code",
   "execution_count": 6,
   "metadata": {},
   "outputs": [
    {
     "data": {
      "text/plain": [
       "9"
      ]
     },
     "execution_count": 6,
     "metadata": {},
     "output_type": "execute_result"
    }
   ],
   "source": [
    "colors = ['red','green','blue','black','white','pink','violet','orange','brown']\n",
    "len(colors)"
   ]
  },
  {
   "cell_type": "code",
   "execution_count": 7,
   "metadata": {},
   "outputs": [
    {
     "name": "stdout",
     "output_type": "stream",
     "text": [
      "['red', 'green', 'blue', 'black', 'white']\n",
      "['violet', 'orange', 'brown']\n",
      "['brown', 'orange', 'violet', 'pink', 'white', 'black', 'blue', 'green', 'red']\n"
     ]
    }
   ],
   "source": [
    "print(colors[:5])\n",
    "print(colors[-3:])\n",
    "print(colors[::-1])"
   ]
  },
  {
   "cell_type": "code",
   "execution_count": 8,
   "metadata": {},
   "outputs": [
    {
     "name": "stdout",
     "output_type": "stream",
     "text": [
      "red\n",
      "brown\n",
      "pink\n",
      "red\n"
     ]
    }
   ],
   "source": [
    "print(colors[0])\n",
    "print(colors[-1])\n",
    "print(colors[5])\n",
    "colors[0] = 'red' # mutability\n",
    "print(colors[0])"
   ]
  },
  {
   "cell_type": "markdown",
   "metadata": {},
   "source": [
    "there are total 11 methods in a list\n",
    "\n",
    "- to add\n",
    "\n",
    "1. append()\n",
    "2. extend()\n",
    "3. insert()\n",
    "\n",
    "- to remove\n",
    "\n",
    "1. remove()\n",
    "2. pop()\n",
    "3. clear()\n",
    "\n",
    "- for utility\n",
    "\n",
    "1. reverse()\n",
    "2. sort()\n",
    "3. copy()\n",
    "4. count()\n",
    "5. index()\n"
   ]
  },
  {
   "cell_type": "code",
   "execution_count": 9,
   "metadata": {},
   "outputs": [],
   "source": [
    "tvshows = [] # empty list\n",
    "# append automatically ends data in the end\n",
    "\n",
    "tvshows.append(\"Chhota Bheem\")\n",
    "tvshows.append(\"Ben 10\")\n",
    "tvshows.append(\"Doremon\")"
   ]
  },
  {
   "cell_type": "code",
   "execution_count": 10,
   "metadata": {},
   "outputs": [],
   "source": [
    "show = input('enter a show name ')\n",
    "tvshows.append(show)"
   ]
  },
  {
   "cell_type": "code",
   "execution_count": 11,
   "metadata": {},
   "outputs": [
    {
     "name": "stdout",
     "output_type": "stream",
     "text": [
      "['Chhota Bheem', 'Ben 10', 'Doremon', 'Doremon']\n"
     ]
    }
   ],
   "source": [
    "print(tvshows)"
   ]
  },
  {
   "cell_type": "code",
   "execution_count": 12,
   "metadata": {},
   "outputs": [
    {
     "name": "stdout",
     "output_type": "stream",
     "text": [
      "['Chhota Bheem', 'The office', 'Ben 10', 'Doremon', 'Friends', 'Doremon']\n"
     ]
    }
   ],
   "source": [
    "tvshows.insert(1,'The office')\n",
    "tvshows.insert(4, 'Friends')\n",
    "print(tvshows)"
   ]
  },
  {
   "cell_type": "code",
   "execution_count": 13,
   "metadata": {},
   "outputs": [],
   "source": [
    "user_shows = input('enter you fav shpws seperated by commas:')\n",
    "user_shows = user_shows.split(',') #try using list(user_names)\n"
   ]
  },
  {
   "cell_type": "code",
   "execution_count": 14,
   "metadata": {},
   "outputs": [
    {
     "name": "stdout",
     "output_type": "stream",
     "text": [
      "['Chhota Bheem', 'The office', 'Ben 10', 'Doremon', 'Friends', 'Doremon', 'Ben 10']\n"
     ]
    }
   ],
   "source": [
    "# extended clibs two lists into single list\n",
    "\n",
    "tvshows.extend(user_shows)\n",
    "print(tvshows)"
   ]
  },
  {
   "cell_type": "code",
   "execution_count": 15,
   "metadata": {},
   "outputs": [
    {
     "name": "stdout",
     "output_type": "stream",
     "text": [
      "['Chhota Bheem', 'The office', 'Ben 10', 'Friends', 'Doremon', 'Ben 10']\n"
     ]
    }
   ],
   "source": [
    "# remove function is to be used with condition (if) only\n",
    "\n",
    "if 'Doremon' in tvshows:\n",
    "    tvshows.remove('Doremon') # remove an item from list\n",
    "print(tvshows)"
   ]
  },
  {
   "cell_type": "code",
   "execution_count": 16,
   "metadata": {},
   "outputs": [
    {
     "name": "stdout",
     "output_type": "stream",
     "text": [
      "Ben 10\n"
     ]
    }
   ],
   "source": [
    "# ask\n",
    "\n",
    "popped_value = tvshows.pop(2)\n",
    "print(popped_value)"
   ]
  },
  {
   "cell_type": "code",
   "execution_count": 17,
   "metadata": {},
   "outputs": [
    {
     "data": {
      "text/plain": [
       "'Ben 10'"
      ]
     },
     "execution_count": 17,
     "metadata": {},
     "output_type": "execute_result"
    }
   ],
   "source": [
    "tvshows.pop( ) # pop() removes last element from the list "
   ]
  },
  {
   "cell_type": "code",
   "execution_count": 18,
   "metadata": {},
   "outputs": [
    {
     "name": "stdout",
     "output_type": "stream",
     "text": [
      "['Chhota Bheem', 'The office', 'Friends', 'Doremon']\n"
     ]
    }
   ],
   "source": [
    "print(tvshows)"
   ]
  },
  {
   "cell_type": "code",
   "execution_count": 19,
   "metadata": {},
   "outputs": [
    {
     "name": "stdout",
     "output_type": "stream",
     "text": [
      "[]\n"
     ]
    }
   ],
   "source": [
    "tvshows.clear()\n",
    "print(tvshows)"
   ]
  },
  {
   "cell_type": "code",
   "execution_count": 20,
   "metadata": {},
   "outputs": [],
   "source": [
    "del mixed"
   ]
  },
  {
   "cell_type": "code",
   "execution_count": 21,
   "metadata": {},
   "outputs": [
    {
     "name": "stdout",
     "output_type": "stream",
     "text": [
      "[2, 4, 6, 3, 3, 9, 8, 7, 3, 6, 5, 2, 6, 5, 4, 3, 1]\n"
     ]
    }
   ],
   "source": [
    "x = [1,3,4,5,6,2,5,6,3,7,8,9,3,3,6,4,2]\n",
    "x.reverse()\n",
    "print(x)"
   ]
  },
  {
   "cell_type": "code",
   "execution_count": 22,
   "metadata": {},
   "outputs": [
    {
     "name": "stdout",
     "output_type": "stream",
     "text": [
      "[1, 3, 4, 5, 6, 2, 5, 6, 3, 7, 8, 9, 3, 3, 6, 4, 2]\n"
     ]
    }
   ],
   "source": [
    "x.reverse()\n",
    "print(x)"
   ]
  },
  {
   "cell_type": "code",
   "execution_count": 23,
   "metadata": {},
   "outputs": [
    {
     "name": "stdout",
     "output_type": "stream",
     "text": [
      "[1, 2, 2, 3, 3, 3, 3, 4, 4, 5, 5, 6, 6, 6, 7, 8, 9]\n"
     ]
    }
   ],
   "source": [
    "x.sort() # ascending order by default\n",
    "print(x)"
   ]
  },
  {
   "cell_type": "code",
   "execution_count": 24,
   "metadata": {},
   "outputs": [
    {
     "name": "stdout",
     "output_type": "stream",
     "text": [
      "[9, 8, 7, 6, 6, 6, 5, 5, 4, 4, 3, 3, 3, 3, 2, 2, 1]\n"
     ]
    }
   ],
   "source": [
    "x.sort(reverse =True) # to convert in descending order\n",
    "print(x)"
   ]
  },
  {
   "cell_type": "code",
   "execution_count": 25,
   "metadata": {},
   "outputs": [
    {
     "data": {
      "text/plain": [
       "4"
      ]
     },
     "execution_count": 25,
     "metadata": {},
     "output_type": "execute_result"
    }
   ],
   "source": [
    "x.count(3) # hpw many times 3 appears in th list"
   ]
  },
  {
   "cell_type": "code",
   "execution_count": 26,
   "metadata": {},
   "outputs": [
    {
     "data": {
      "text/plain": [
       "6"
      ]
     },
     "execution_count": 26,
     "metadata": {},
     "output_type": "execute_result"
    }
   ],
   "source": [
    "x.index(5)"
   ]
  },
  {
   "cell_type": "code",
   "execution_count": 27,
   "metadata": {},
   "outputs": [
    {
     "name": "stdout",
     "output_type": "stream",
     "text": [
      "[1, 3, 4, 5, 6, 2, 5, 6, 3, 7, 8, 9, 3, 3, 6, 4, 2, 5, 6, 6, 7, 2, 4, 2]\n"
     ]
    }
   ],
   "source": [
    "x = [1,3,4,5,6,2,5,6,3,7,8,9,3,3,6,4,2,5,6,6,7,2,4,2]\n",
    "print(x)\n"
   ]
  },
  {
   "cell_type": "code",
   "execution_count": 28,
   "metadata": {},
   "outputs": [
    {
     "name": "stdout",
     "output_type": "stream",
     "text": [
      "4\n",
      "7\n",
      "14\n",
      "18\n",
      "19\n"
     ]
    }
   ],
   "source": [
    "start = 0 \n",
    "for i in range(x.count(6)):\n",
    "    pos = x.index(6,start)\n",
    "    start = pos+1\n",
    "    print(pos)"
   ]
  },
  {
   "cell_type": "code",
   "execution_count": null,
   "metadata": {},
   "outputs": [],
   "source": []
  }
 ],
 "metadata": {
  "kernelspec": {
   "display_name": "base",
   "language": "python",
   "name": "python3"
  },
  "language_info": {
   "codemirror_mode": {
    "name": "ipython",
    "version": 3
   },
   "file_extension": ".py",
   "mimetype": "text/x-python",
   "name": "python",
   "nbconvert_exporter": "python",
   "pygments_lexer": "ipython3",
   "version": "3.10.10"
  },
  "orig_nbformat": 4
 },
 "nbformat": 4,
 "nbformat_minor": 2
}
