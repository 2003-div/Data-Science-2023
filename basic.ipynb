{
 "cells": [
  {
   "cell_type": "code",
   "execution_count": 1,
   "metadata": {},
   "outputs": [
    {
     "name": "stdout",
     "output_type": "stream",
     "text": [
      "10 <class 'int'>\n",
      "10.2 <class 'float'>\n",
      "hello <class 'str'>\n",
      "True <class 'bool'>\n",
      "None <class 'NoneType'>\n",
      "[1, 2, 3] <class 'list'>\n",
      "(1, 2, 2, 2, 3) <class 'tuple'>\n",
      "{1, 2, 3} <class 'set'>\n",
      "{'a': 1, 'b': 2} <class 'dict'>\n"
     ]
    }
   ],
   "source": [
    "a=10 #int\n",
    "print(a,type(a))\n",
    "a=10.2 #float\n",
    "print(a,type(a))\n",
    "a='hello' #str\n",
    "print(a,type(a))\n",
    "a=True #bool\n",
    "print(a,type(a))\n",
    "a=None #Nonetype\n",
    "print(a,type(a))\n",
    "a=[1,2,3] #list\n",
    "print(a,type(a))\n",
    "a=(1,2,2,2,3) #tuple\n",
    "print(a,type(a))\n",
    "a={1,2,3} #set\n",
    "print(a,type(a))\n",
    "a={'a':1,'b':2} #dict\n",
    "print(a,type(a))\n"
   ]
  },
  {
   "cell_type": "code",
   "execution_count": 2,
   "metadata": {},
   "outputs": [
    {
     "name": "stdout",
     "output_type": "stream",
     "text": [
      "\n",
      "5 10\n",
      "5 10 15\n",
      "5\n",
      "10\n",
      "15\n"
     ]
    }
   ],
   "source": [
    "print()\n",
    "a=5\n",
    "b=10\n",
    "print(a, b)\n",
    "print(a, b, a + b)\n",
    "print(a, b, a+b, sep='\\n')"
   ]
  },
  {
   "cell_type": "code",
   "execution_count": 4,
   "metadata": {},
   "outputs": [
    {
     "name": "stdout",
     "output_type": "stream",
     "text": [
      "10/3 = 3.33\n",
      "10 / 3 = 3.33\n"
     ]
    }
   ],
   "source": [
    "x=10\n",
    "y=3\n",
    "z=x/y\n",
    "print(f'{x}/{y} = {z:.2f}')\n",
    "print(x,'/',y,'=',round(z,2))"
   ]
  },
  {
   "cell_type": "code",
   "execution_count": 5,
   "metadata": {},
   "outputs": [
    {
     "name": "stdout",
     "output_type": "stream",
     "text": [
      "Divyanshi  22\n",
      "ABC        21\n",
      "XYZ        24\n"
     ]
    }
   ],
   "source": [
    "n1='Divyanshi'\n",
    "n2='ABC'\n",
    "n3='XYZ'\n",
    "a1,a2,a3=22,21,24\n",
    "print(f'{n1:10} {a1}')\n",
    "print(f'{n2:10} {a2}')\n",
    "print(f'{n3:10} {a3}')"
   ]
  },
  {
   "cell_type": "code",
   "execution_count": 1,
   "metadata": {},
   "outputs": [
    {
     "name": "stdout",
     "output_type": "stream",
     "text": [
      "My name is Divyanshi, I am 20 years old, I live in Lucknow\n"
     ]
    }
   ],
   "source": [
    "name = 'Divyanshi'\n",
    "age = 20\n",
    "city = 'Lucknow'\n",
    "print(f'My name is {name}, I am {age} years old, I live in {city}')"
   ]
  },
  {
   "cell_type": "code",
   "execution_count": null,
   "metadata": {},
   "outputs": [],
   "source": []
  }
 ],
 "metadata": {
  "kernelspec": {
   "display_name": "base",
   "language": "python",
   "name": "python3"
  },
  "language_info": {
   "codemirror_mode": {
    "name": "ipython",
    "version": 3
   },
   "file_extension": ".py",
   "mimetype": "text/x-python",
   "name": "python",
   "nbconvert_exporter": "python",
   "pygments_lexer": "ipython3",
   "version": "3.10.10"
  },
  "orig_nbformat": 4
 },
 "nbformat": 4,
 "nbformat_minor": 2
}
