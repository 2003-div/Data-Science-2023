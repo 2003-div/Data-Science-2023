{
 "cells": [
  {
   "cell_type": "markdown",
   "metadata": {},
   "source": [
    "Wap to find all the indexes of a search element in a given list "
   ]
  },
  {
   "cell_type": "code",
   "execution_count": 1,
   "metadata": {},
   "outputs": [],
   "source": [
    "a = [1,1,2,3,4,5,6,1,2,2,2,3,3,5]"
   ]
  },
  {
   "cell_type": "code",
   "execution_count": 5,
   "metadata": {},
   "outputs": [
    {
     "name": "stdout",
     "output_type": "stream",
     "text": [
      "[2, 8, 9, 10]\n"
     ]
    }
   ],
   "source": [
    "search = 2\n",
    "cnt = a.count(search)\n",
    "start = 0\n",
    "res = []\n",
    "for i in range (cnt):\n",
    "    idx = a.index(search,start)\n",
    "    start = idx + 1\n",
    "    res.append(idx)\n",
    "print(res)"
   ]
  },
  {
   "cell_type": "code",
   "execution_count": 6,
   "metadata": {},
   "outputs": [
    {
     "name": "stdout",
     "output_type": "stream",
     "text": [
      "[0, 1, 1, 2, 3, 5, 8, 13, 21, 34, 55, 89, 144, 233, 377, 610, 987]\n"
     ]
    }
   ],
   "source": [
    "# Fibonacci series\n",
    "\n",
    "fib = [0,1]\n",
    "for i in range(15):\n",
    "    fib.append(fib[-1] + fib[-2])\n",
    "print(fib)"
   ]
  },
  {
   "cell_type": "code",
   "execution_count": 1,
   "metadata": {},
   "outputs": [
    {
     "name": "stdout",
     "output_type": "stream",
     "text": [
      "120\n"
     ]
    }
   ],
   "source": [
    "# Factorial Number\n",
    "\n",
    "num = int(input(\"enter the number\"))\n",
    "f = 1\n",
    "for i in range (1 , num+1):\n",
    "    f = f*i\n",
    "print(f)"
   ]
  },
  {
   "cell_type": "code",
   "execution_count": 11,
   "metadata": {},
   "outputs": [
    {
     "name": "stdout",
     "output_type": "stream",
     "text": [
      "['red', 'green', 'blue', 'yellow', 'purple', 'gray', 'cyan']\n"
     ]
    }
   ],
   "source": [
    "# Filters\n",
    "\n",
    "colors = ['red','green','blue','yellow','pink','purple','gray','cyan']\n",
    "colors_with_n = []\n",
    "for c in colors:\n",
    "    if 'a' in c or 'e' in c:\n",
    "        colors_with_n.append(c)\n",
    "print(colors_with_n)"
   ]
  },
  {
   "cell_type": "code",
   "execution_count": 12,
   "metadata": {},
   "outputs": [
    {
     "name": "stdout",
     "output_type": "stream",
     "text": [
      "['blue', 'purple']\n"
     ]
    }
   ],
   "source": [
    "colors = ['red','green','blue','yellow','pink','purple','gray','cyan']\n",
    "colors_with_n = []\n",
    "for c in colors:\n",
    "    if c.endswith('e'):\n",
    "        colors_with_n.append(c)\n",
    "print(colors_with_n)"
   ]
  },
  {
   "cell_type": "code",
   "execution_count": 13,
   "metadata": {},
   "outputs": [
    {
     "name": "stdout",
     "output_type": "stream",
     "text": [
      "[3, 4, 5, 6, 7, 9, 6, 8, 9, 10, 11]\n"
     ]
    }
   ],
   "source": [
    "# Mapping\n",
    "\n",
    "a = [1,2,3,4,5,7,4,6,7,8,9]\n",
    "a2 = []\n",
    "for num in a :\n",
    "    a2.append(num+2)\n",
    "print(a2)\n"
   ]
  },
  {
   "cell_type": "code",
   "execution_count": 14,
   "metadata": {},
   "outputs": [
    {
     "name": "stdout",
     "output_type": "stream",
     "text": [
      "[1, 4, 9, 16, 25, 49, 16, 36, 49, 64, 81]\n"
     ]
    }
   ],
   "source": [
    "\n",
    "a = [1,2,3,4,5,7,4,6,7,8,9]\n",
    "a2 = []\n",
    "for num in a :\n",
    "    a2.append(num**2 )\n",
    "print(a2)"
   ]
  },
  {
   "cell_type": "code",
   "execution_count": 20,
   "metadata": {},
   "outputs": [
    {
     "name": "stdout",
     "output_type": "stream",
     "text": [
      "[4, 16, 16, 36, 64]\n"
     ]
    }
   ],
   "source": [
    "a = [1,2,3,4,5,7,4,6,7,8,9]\n",
    "a2 = []\n",
    "for num in a :\n",
    "    if (num % 2 == 0):\n",
    "        a2.append(num**2)\n",
    "print(a2)"
   ]
  },
  {
   "cell_type": "code",
   "execution_count": 24,
   "metadata": {},
   "outputs": [
    {
     "name": "stdout",
     "output_type": "stream",
     "text": [
      "['DS', 'AS', 'VK', 'AG', 'MA', 'SN']\n"
     ]
    }
   ],
   "source": [
    "full_names = ['Divyanshi Srivastava','Aniket Singh','Vaishnavi Kumari','Ajay Kumar Garg','Mohd Anas','Sonakshi Nishad']\n",
    "f2 = []\n",
    "for name in full_names :\n",
    "    words = name.split()\n",
    "    sn= words[0][0] + words[-1][0]\n",
    "    f2.append(sn)\n",
    "print(f2)\n",
    "    "
   ]
  },
  {
   "cell_type": "code",
   "execution_count": null,
   "metadata": {},
   "outputs": [],
   "source": []
  }
 ],
 "metadata": {
  "kernelspec": {
   "display_name": "base",
   "language": "python",
   "name": "python3"
  },
  "language_info": {
   "codemirror_mode": {
    "name": "ipython",
    "version": 3
   },
   "file_extension": ".py",
   "mimetype": "text/x-python",
   "name": "python",
   "nbconvert_exporter": "python",
   "pygments_lexer": "ipython3",
   "version": "3.10.10"
  },
  "orig_nbformat": 4
 },
 "nbformat": 4,
 "nbformat_minor": 2
}
