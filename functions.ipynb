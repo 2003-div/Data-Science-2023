{
 "cells": [
  {
   "cell_type": "markdown",
   "metadata": {},
   "source": [
    "syntax\n",
    "'''\n",
    "def fun_name([parameters]):\n",
    "    statement 1\n",
    "    statement 2\n",
    "\n",
    "    ''''\n",
    "    statement n\n",
    "    [return experession]\n",
    "'''\n",
    "example\n",
    "''''\n",
    "def area(width,weight):\n",
    "    a = width * height\n",
    "    return a"
   ]
  },
  {
   "cell_type": "markdown",
   "metadata": {},
   "source": [
    "Functions\n",
    "\n",
    "- based on parameter and return value\n",
    "    1. no parameter , no return value\n",
    "    2. no parameter , return value\n",
    "    3. parameter , no return value\n",
    "    4. parameter , return value\n",
    "\n",
    "- based on parameter type \n",
    "    1. required parameter\n",
    "    2. keyword parameter\n",
    "    3. default parameter\n",
    "    4. variable length parameter (*args)\n",
    "    5. variable keyword arguments(** kwargs)\n",
    "\n",
    "- other type of function\n",
    "    1. lambda function\n",
    "    2. generator function\n",
    "    3. recursive function"
   ]
  },
  {
   "cell_type": "code",
   "execution_count": null,
   "metadata": {},
   "outputs": [],
   "source": []
  }
 ],
 "metadata": {
  "language_info": {
   "name": "python"
  },
  "orig_nbformat": 4
 },
 "nbformat": 4,
 "nbformat_minor": 2
}
