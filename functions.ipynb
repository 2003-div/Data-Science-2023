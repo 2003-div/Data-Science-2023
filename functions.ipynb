{
 "cells": [
  {
   "cell_type": "markdown",
   "metadata": {},
   "source": [
    "syntax\n",
    "'''\n",
    "def fun_name([parameters]):\n",
    "    statement 1\n",
    "    statement 2\n",
    "\n",
    "    ''''\n",
    "    statement n\n",
    "    [return experession]\n",
    "'''\n",
    "example\n",
    "''''\n",
    "def area(width,weight):\n",
    "    a = width * height\n",
    "    return a"
   ]
  },
  {
   "cell_type": "markdown",
   "metadata": {},
   "source": [
    "Functions\n",
    "\n",
    "- based on parameter and return value\n",
    "    1. no parameter , no return value\n",
    "    2. no parameter , return value\n",
    "    3. parameter , no return value\n",
    "    4. parameter , return value\n",
    "\n",
    "- based on parameter type \n",
    "    1. required parameter\n",
    "    2. keyword parameter\n",
    "    3. default parameter\n",
    "    4. variable length parameter (*args)\n",
    "    5. variable keyword arguments(** kwargs)\n",
    "\n",
    "- other type of function\n",
    "    1. lambda function\n",
    "    2. generator function\n",
    "    3. recursive function"
   ]
  },
  {
   "cell_type": "code",
   "execution_count": 1,
   "metadata": {},
   "outputs": [],
   "source": [
    "# value returing function\n",
    "def area ():\n",
    "    l = int(input(\"Enter l = \"))\n",
    "    b = int(input(\"Enter b = \"))\n",
    "    return l*b"
   ]
  },
  {
   "cell_type": "code",
   "execution_count": 2,
   "metadata": {},
   "outputs": [
    {
     "name": "stdout",
     "output_type": "stream",
     "text": [
      "area is 1350\n"
     ]
    }
   ],
   "source": [
    "ans = area ()\n",
    "print(f'area is {ans}')"
   ]
  },
  {
   "cell_type": "code",
   "execution_count": 3,
   "metadata": {},
   "outputs": [],
   "source": [
    "def math():\n",
    "    p = int(input(\"Enter the principal :\"))\n",
    "    r = int(input(\"enter the rate : \"))\n",
    "    t = int(input(\"enter the time :\"))\n",
    "    si = p*r*t/100\n",
    "    amt = p+si\n",
    "    return si ,amt"
   ]
  },
  {
   "cell_type": "code",
   "execution_count": 4,
   "metadata": {},
   "outputs": [
    {
     "name": "stdout",
     "output_type": "stream",
     "text": [
      "si 5240.0\n",
      "amt 5895.0\n"
     ]
    }
   ],
   "source": [
    "result = math ()\n",
    "print('si',result[0])\n",
    "print('amt',result[1])"
   ]
  },
  {
   "cell_type": "code",
   "execution_count": 5,
   "metadata": {},
   "outputs": [
    {
     "name": "stdout",
     "output_type": "stream",
     "text": [
      "1600.0 2000.0\n"
     ]
    }
   ],
   "source": [
    "si , amount = math()\n",
    "print(si , amount)"
   ]
  },
  {
   "cell_type": "code",
   "execution_count": 6,
   "metadata": {},
   "outputs": [],
   "source": [
    "def is_armstrong(number):\n",
    "    t = number\n",
    "    s = 0 # sum \n",
    "    pow = len(str(number))\n",
    "    while number > 0:\n",
    "        r = number % 10\n",
    "        s += r ** pow\n",
    "        number //= 10\n",
    "    return t == s"
   ]
  },
  {
   "cell_type": "code",
   "execution_count": 7,
   "metadata": {},
   "outputs": [
    {
     "name": "stdout",
     "output_type": "stream",
     "text": [
      "False\n"
     ]
    }
   ],
   "source": [
    "x = int (input ('enter a number'))\n",
    "print(is_armstrong(x))"
   ]
  },
  {
   "cell_type": "code",
   "execution_count": 8,
   "metadata": {},
   "outputs": [],
   "source": [
    "def adder(a,b,c):\n",
    "    return a+b+c"
   ]
  },
  {
   "cell_type": "code",
   "execution_count": 9,
   "metadata": {},
   "outputs": [
    {
     "name": "stdout",
     "output_type": "stream",
     "text": [
      "12\n"
     ]
    }
   ],
   "source": [
    "print(adder(5,2,5))"
   ]
  },
  {
   "cell_type": "code",
   "execution_count": 10,
   "metadata": {},
   "outputs": [
    {
     "name": "stdout",
     "output_type": "stream",
     "text": [
      "11\n",
      "40\n",
      "50\n",
      "60\n"
     ]
    }
   ],
   "source": [
    "print(adder(a=4,b=2,c=5))\n",
    "print(adder(b=10,c=20,a=10))\n",
    "print(adder(10,c=20,b=20))\n",
    "print(adder(10,20,c=30))"
   ]
  },
  {
   "cell_type": "code",
   "execution_count": 11,
   "metadata": {},
   "outputs": [],
   "source": [
    "def multiplier(a,b,c=1):\n",
    "    return a*b*c"
   ]
  },
  {
   "cell_type": "code",
   "execution_count": 12,
   "metadata": {},
   "outputs": [
    {
     "name": "stdout",
     "output_type": "stream",
     "text": [
      "6\n",
      "60\n",
      "30\n"
     ]
    }
   ],
   "source": [
    "print(multiplier(2,3))\n",
    "print(multiplier(2,3,10))\n",
    "print(multiplier(2,3,c=5))"
   ]
  },
  {
   "cell_type": "code",
   "execution_count": 27,
   "metadata": {},
   "outputs": [],
   "source": [
    "from string import punctuation\n",
    "def cleaner (data,chars=None):\n",
    "    if chars is None:\n",
    "        chars = punctuation\n",
    "    for c in chars:\n",
    "        data = data.replace(c,'')\n",
    "    return data"
   ]
  },
  {
   "cell_type": "code",
   "execution_count": 28,
   "metadata": {},
   "outputs": [
    {
     "name": "stdout",
     "output_type": "stream",
     "text": [
      "!\"#$%&'()*+,-./:;<=>?@[\\]^_`{|}~\n"
     ]
    }
   ],
   "source": [
    "print(punctuation)"
   ]
  },
  {
   "cell_type": "code",
   "execution_count": 29,
   "metadata": {},
   "outputs": [
    {
     "data": {
      "text/plain": [
       "'h((el)()lo'"
      ]
     },
     "execution_count": 29,
     "metadata": {},
     "output_type": "execute_result"
    }
   ],
   "source": [
    "cleaner('h@!#*(!@*#(el!@#)(!@)#lo{}#@}!', chars = '!@#*{}[]')"
   ]
  },
  {
   "cell_type": "code",
   "execution_count": 18,
   "metadata": {},
   "outputs": [],
   "source": [
    "def multiplier(*nums):\n",
    "    result = 1\n",
    "    for num in nums:\n",
    "        result *= num\n",
    "    return result"
   ]
  },
  {
   "cell_type": "code",
   "execution_count": 19,
   "metadata": {},
   "outputs": [
    {
     "name": "stdout",
     "output_type": "stream",
     "text": [
      "1\n",
      "2\n",
      "126360\n",
      "579156480\n"
     ]
    }
   ],
   "source": [
    "print(multiplier())\n",
    "print(multiplier(2))\n",
    "print(multiplier(2,3,5,6,78,9))\n",
    "print(multiplier(2,3,4,5,6,7,4,2,6,7,57,3,2))"
   ]
  },
  {
   "cell_type": "code",
   "execution_count": 21,
   "metadata": {},
   "outputs": [],
   "source": [
    "def aggregator (*x,action = 'sum'):\n",
    "    if action == 'sum':\n",
    "        return sum(x)\n",
    "    elif action == 'count':\n",
    "        return len(x)\n",
    "    elif action == 'mean':\n",
    "        return sum (x)/len(x)\n",
    "    else:\n",
    "        raise ValueError('Invalid action')"
   ]
  },
  {
   "cell_type": "code",
   "execution_count": 22,
   "metadata": {},
   "outputs": [
    {
     "data": {
      "text/plain": [
       "2.0"
      ]
     },
     "execution_count": 22,
     "metadata": {},
     "output_type": "execute_result"
    }
   ],
   "source": [
    "aggregator(1,2,3,3,1,1,2,2,3, action = 'mean')"
   ]
  },
  {
   "cell_type": "code",
   "execution_count": null,
   "metadata": {},
   "outputs": [],
   "source": []
  }
 ],
 "metadata": {
  "kernelspec": {
   "display_name": "base",
   "language": "python",
   "name": "python3"
  },
  "language_info": {
   "codemirror_mode": {
    "name": "ipython",
    "version": 3
   },
   "file_extension": ".py",
   "mimetype": "text/x-python",
   "name": "python",
   "nbconvert_exporter": "python",
   "pygments_lexer": "ipython3",
   "version": "3.10.10"
  },
  "orig_nbformat": 4
 },
 "nbformat": 4,
 "nbformat_minor": 2
}
