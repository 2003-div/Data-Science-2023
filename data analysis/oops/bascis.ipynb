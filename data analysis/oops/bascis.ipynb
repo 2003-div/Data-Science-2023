{
 "cells": [
  {
   "cell_type": "markdown",
   "metadata": {},
   "source": [
    "# opps\n",
    "- class\n",
    "- object\n",
    "- method\n",
    "     - constructor\n",
    "     - instance method\n",
    "- inheritance\n",
    "- multiple inheritance\n",
    "- data class\n",
    "- operator overloading"
   ]
  },
  {
   "cell_type": "code",
   "execution_count": 1,
   "metadata": {},
   "outputs": [],
   "source": [
    "class Conversation:\n",
    "    name = \"\"\n",
    "    message = \"\"\n",
    "    def show(self):\n",
    "        print(\"Name\",self.name)\n",
    "        print(\"Message\",self.message)"
   ]
  },
  {
   "cell_type": "code",
   "execution_count": 2,
   "metadata": {},
   "outputs": [
    {
     "name": "stdout",
     "output_type": "stream",
     "text": [
      "<__main__.Conversation object at 0x0000023B89F40AF0> <__main__.Conversation object at 0x0000023B89F413F0> <__main__.Conversation object at 0x0000023B89F40340>\n"
     ]
    }
   ],
   "source": [
    "c1 = Conversation() # object\n",
    "c2 = Conversation()\n",
    "c3 = Conversation()\n",
    "print(c1,c2,c3)"
   ]
  },
  {
   "cell_type": "code",
   "execution_count": 7,
   "metadata": {},
   "outputs": [],
   "source": [
    "c1.name = 'Raj'\n",
    "c1.message = 'Hello'\n",
    "c2.name = 'Rajesh'\n",
    "c2.message = 'Hi'\n",
    "c3.name = 'Rahul'\n",
    "c3.message = 'Helllooo Bro'"
   ]
  },
  {
   "cell_type": "code",
   "execution_count": 10,
   "metadata": {},
   "outputs": [
    {
     "name": "stdout",
     "output_type": "stream",
     "text": [
      "Name Raj\n",
      "Message Hello\n",
      "Name Rajesh\n",
      "Message Hi\n",
      "Name Rahul\n",
      "Message Helllooo Bro\n"
     ]
    }
   ],
   "source": [
    "c1.show()\n",
    "c2.show()\n",
    "c3.show()"
   ]
  },
  {
   "cell_type": "code",
   "execution_count": 12,
   "metadata": {},
   "outputs": [],
   "source": [
    "class Cat:\n",
    "    def __init__(self , breed , color,age ,gender,type=\"pet\"):\n",
    "        self.breed = breed\n",
    "        self.color = color\n",
    "        self.age = age\n",
    "        self.gender = gender\n",
    "        self.type = type\n",
    "        self.is_hungry = True\n",
    "\n",
    "    def info(self):\n",
    "        print(f'Breed : {self.breed}')\n",
    "        print(f'color : {self.color}')\n",
    "        print(f'age : {self.age}')\n",
    "        print(f'gender : {self.gender}')\n",
    "        print(f'Type : {self.type}')\n",
    "        print(f'Is hungry : {\"Yes\" if self.is_hungry else \"No\"}')"
   ]
  },
  {
   "cell_type": "code",
   "execution_count": 13,
   "metadata": {},
   "outputs": [],
   "source": [
    "tom = Cat('idk','grey',100,'male')\n",
    "snowbell = Cat('Persian','white',3,'female')\n",
    "blacky = Cat('street cat','black',4,'male','stray')"
   ]
  },
  {
   "cell_type": "code",
   "execution_count": 14,
   "metadata": {},
   "outputs": [],
   "source": [
    "blacky.is_hungry = False"
   ]
  },
  {
   "cell_type": "code",
   "execution_count": 16,
   "metadata": {},
   "outputs": [
    {
     "name": "stdout",
     "output_type": "stream",
     "text": [
      "🐈‍⬛\n",
      "Breed : idk\n",
      "color : grey\n",
      "age : 100\n",
      "gender : male\n",
      "Type : pet\n",
      "Is hungry : Yes\n",
      "🐈\n",
      "Breed : Persian\n",
      "color : white\n",
      "age : 3\n",
      "gender : female\n",
      "Type : pet\n",
      "Is hungry : Yes\n",
      "🐈‍⬛\n",
      "Breed : street cat\n",
      "color : black\n",
      "age : 4\n",
      "gender : male\n",
      "Type : stray\n",
      "Is hungry : No\n"
     ]
    }
   ],
   "source": [
    "print('🐈‍⬛')\n",
    "tom.info()\n",
    "print('🐈')\n",
    "snowbell.info()\n",
    "print('🐈‍⬛')\n",
    "blacky.info()"
   ]
  },
  {
   "cell_type": "code",
   "execution_count": 17,
   "metadata": {},
   "outputs": [],
   "source": [
    "class ListX(list):\n",
    "    def filter(self,dtype='int'):\n",
    "        if dtype == 'int':\n",
    "            for item in self:\n",
    "                if isinstance(item,int):\n",
    "                    yield item \n",
    "        if dtype == 'str':\n",
    "            for item in self:\n",
    "                if isinstance(item,str):\n",
    "                    yield(item)\n",
    "        if dtype == 'list':\n",
    "            for item in self:\n",
    "                if isinstance(item,list):\n",
    "                    yield item"
   ]
  },
  {
   "cell_type": "code",
   "execution_count": 18,
   "metadata": {},
   "outputs": [
    {
     "data": {
      "text/plain": [
       "[1, 2, 3, 4, 5]"
      ]
     },
     "execution_count": 18,
     "metadata": {},
     "output_type": "execute_result"
    }
   ],
   "source": [
    "x = ListX([1,2,3,4,5,'a','b','c'])\n",
    "list (x.filter())"
   ]
  },
  {
   "cell_type": "code",
   "execution_count": 19,
   "metadata": {},
   "outputs": [
    {
     "data": {
      "text/plain": [
       "['a', 'b', 'c']"
      ]
     },
     "execution_count": 19,
     "metadata": {},
     "output_type": "execute_result"
    }
   ],
   "source": [
    "list(x.filter('str'))"
   ]
  },
  {
   "cell_type": "code",
   "execution_count": 21,
   "metadata": {},
   "outputs": [
    {
     "data": {
      "text/plain": [
       "[[1, 2, 3, 4], [5, 6, 7]]"
      ]
     },
     "execution_count": 21,
     "metadata": {},
     "output_type": "execute_result"
    }
   ],
   "source": [
    "x = ListX([[1,2,3,4],[5,6,7],'hello',1,2,3])\n",
    "list(x.filter('list'))"
   ]
  },
  {
   "cell_type": "code",
   "execution_count": 28,
   "metadata": {},
   "outputs": [],
   "source": [
    "from dataclasses import dataclass\n",
    "from datetime import datetime\n",
    "\n",
    "@dataclass  # decorater\n",
    "class Conversation:\n",
    "    name : str\n",
    "    message : str\n",
    "    profile_pic : str\n",
    "    message_time : datetime = datetime.now()\n",
    "    status:str = 'sent'\n",
    "    is_group: bool = False\n",
    "    is_muted : bool = False"
   ]
  },
  {
   "cell_type": "code",
   "execution_count": 29,
   "metadata": {},
   "outputs": [],
   "source": [
    "c1 = Conversation('XYZ','Hello','raj.jpg')\n",
    "c2 = Conversation('ABC','Helloooo','abc.jpg',status ='seen')\n",
    "c3 = Conversation('WER','Hiii','wer.jpg')\n",
    "c4 = Conversation('BAN','Heeeee','ban.jpg',is_group=True)"
   ]
  },
  {
   "cell_type": "code",
   "execution_count": 30,
   "metadata": {},
   "outputs": [
    {
     "name": "stdout",
     "output_type": "stream",
     "text": [
      "Conversation(name='XYZ', message='Hello', profile_pic='raj.jpg', message_time=datetime.datetime(2023, 9, 15, 19, 58, 7, 675616), status='sent', is_group=False, is_muted=False)\n"
     ]
    }
   ],
   "source": [
    "print(c1)"
   ]
  },
  {
   "cell_type": "code",
   "execution_count": 31,
   "metadata": {},
   "outputs": [],
   "source": [
    "class Person:\n",
    "    def __init__ (self,name,age):\n",
    "        self.name = name\n",
    "        self.age = age\n",
    "    def __str__(self):\n",
    "        return self.name"
   ]
  },
  {
   "cell_type": "code",
   "execution_count": 32,
   "metadata": {},
   "outputs": [],
   "source": [
    "p1 = Person('Raj',20)\n",
    "p2 = Person('Rohan',22)\n",
    "p3 = Person('rahul',33)"
   ]
  },
  {
   "cell_type": "code",
   "execution_count": 34,
   "metadata": {},
   "outputs": [
    {
     "name": "stdout",
     "output_type": "stream",
     "text": [
      "Raj Rohan rahul\n"
     ]
    }
   ],
   "source": [
    "print(p1,p2,p3)"
   ]
  },
  {
   "cell_type": "code",
   "execution_count": null,
   "metadata": {},
   "outputs": [],
   "source": []
  }
 ],
 "metadata": {
  "kernelspec": {
   "display_name": "base",
   "language": "python",
   "name": "python3"
  },
  "language_info": {
   "codemirror_mode": {
    "name": "ipython",
    "version": 3
   },
   "file_extension": ".py",
   "mimetype": "text/x-python",
   "name": "python",
   "nbconvert_exporter": "python",
   "pygments_lexer": "ipython3",
   "version": "3.10.10"
  },
  "orig_nbformat": 4
 },
 "nbformat": 4,
 "nbformat_minor": 2
}
